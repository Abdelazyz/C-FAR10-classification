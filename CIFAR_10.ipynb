{
  "cells": [
    {
      "cell_type": "code",
      "execution_count": null,
      "metadata": {
        "id": "fiCztT2RPAt0"
      },
      "outputs": [],
      "source": [
        "import numpy as np\n",
        "from tensorflow import keras\n",
        "from keras import layers\n",
        "import matplotlib.pyplot as plt"
      ]
    },
    {
      "cell_type": "code",
      "execution_count": null,
      "metadata": {
        "colab": {
          "base_uri": "https://localhost:8080/"
        },
        "id": "rn_dK1rZPGML",
        "outputId": "262a9f0e-ee28-487c-c7cc-56a294b55d57"
      },
      "outputs": [
        {
          "name": "stdout",
          "output_type": "stream",
          "text": [
            "Downloading data from https://www.cs.toronto.edu/~kriz/cifar-10-python.tar.gz\n",
            "170500096/170498071 [==============================] - 4s 0us/step\n",
            "170508288/170498071 [==============================] - 4s 0us/step\n"
          ]
        }
      ],
      "source": [
        "from keras.datasets import cifar10\n",
        "(x_train, y_train), (x_test, y_test) = cifar10.load_data()"
      ]
    },
    {
      "cell_type": "code",
      "execution_count": null,
      "metadata": {
        "colab": {
          "base_uri": "https://localhost:8080/"
        },
        "id": "LNwBAL4cPJLH",
        "outputId": "9e2f622b-25a1-48a5-b6eb-9c633ac57e95"
      },
      "outputs": [
        {
          "name": "stdout",
          "output_type": "stream",
          "text": [
            "Train samples: (50000, 32, 32, 3) (50000, 1)\n",
            "Test samples: (10000, 32, 32, 3) (10000, 1)\n"
          ]
        }
      ],
      "source": [
        "print(\"Train samples:\", x_train.shape, y_train.shape)\n",
        "print(\"Test samples:\", x_test.shape, y_test.shape)"
      ]
    },
    {
      "cell_type": "code",
      "execution_count": null,
      "metadata": {
        "id": "fLHi1jwqPOo9"
      },
      "outputs": [],
      "source": [
        "# Paramètres de modèle / données\n",
        "NUM_CLASSES = 10\n",
        "cifar10_classes = [\"airplane\", \"automobile\", \"bird\", \"cat\", \"deer\", \n",
        "                   \"dog\", \"frog\", \"horse\", \"ship\", \"truck\"]"
      ]
    },
    {
      "cell_type": "code",
      "execution_count": null,
      "metadata": {
        "id": "SJ26siYisxzm"
      },
      "outputs": [],
      "source": [
        "x_train = x_train.astype(\"float32\") / 255\n",
        "x_test = x_test.astype(\"float32\") / 255"
      ]
    },
    {
      "cell_type": "code",
      "execution_count": null,
      "metadata": {
        "id": "MwV2ScB5tfhp"
      },
      "outputs": [],
      "source": [
        "y_train = keras.utils.to_categorical(y_train,NUM_CLASSES)\n",
        "y_test = keras.utils.to_categorical(y_test,NUM_CLASSES)"
      ]
    },
    {
      "cell_type": "code",
      "execution_count": null,
      "metadata": {
        "id": "Qrcv9k4UHAHc"
      },
      "outputs": [],
      "source": [
        "model=keras.Sequential()"
      ]
    },
    {
      "cell_type": "code",
      "execution_count": null,
      "metadata": {
        "id": "IuyFRh_cHGUE"
      },
      "outputs": [],
      "source": [
        "  model.add(layers.Conv2D(16, (3, 3), activation = 'relu', input_shape = (32, 32, 3)))"
      ]
    },
    {
      "cell_type": "code",
      "execution_count": null,
      "metadata": {
        "id": "d8IEaxVdHMgG"
      },
      "outputs": [],
      "source": [
        "model.add(layers.Conv2D(32, kernel_size=(3, 3), activation=\"relu\", input_shape = (32, 32, 3)))"
      ]
    },
    {
      "cell_type": "code",
      "execution_count": null,
      "metadata": {
        "id": "3eAyxpcrHWo_"
      },
      "outputs": [],
      "source": [
        "model.add(layers.MaxPooling2D(pool_size=(2, 2)))"
      ]
    },
    {
      "cell_type": "code",
      "execution_count": null,
      "metadata": {
        "id": "s28VzA7JHY-o"
      },
      "outputs": [],
      "source": [
        "model.add(layers.Conv2D(64, kernel_size=(3, 3), activation=\"relu\", input_shape = (32, 32, 3)))"
      ]
    },
    {
      "cell_type": "code",
      "execution_count": null,
      "metadata": {
        "id": "MRSIxFLEHbfN"
      },
      "outputs": [],
      "source": [
        "model.add(layers.MaxPooling2D(pool_size=(2, 2)))"
      ]
    },
    {
      "cell_type": "code",
      "execution_count": null,
      "metadata": {
        "id": "sgEJ7FywHekl"
      },
      "outputs": [],
      "source": [
        "model.add(layers.Flatten())"
      ]
    },
    {
      "cell_type": "code",
      "execution_count": null,
      "metadata": {
        "id": "LGrEz-QUj4tx"
      },
      "outputs": [],
      "source": [
        "model.add(layers.Dense(256, input_shape = (256, )))"
      ]
    },
    {
      "cell_type": "code",
      "execution_count": null,
      "metadata": {
        "colab": {
          "background_save": true
        },
        "id": "1SgG_vT-HgmM"
      },
      "outputs": [],
      "source": [
        "model.add(layers.Dropout(0.5))"
      ]
    },
    {
      "cell_type": "code",
      "execution_count": null,
      "metadata": {
        "id": "H17-TFfvHihC"
      },
      "outputs": [],
      "source": [
        "model.add(layers.Dense(NUM_CLASSES, activation=\"softmax\"))"
      ]
    },
    {
      "cell_type": "code",
      "execution_count": null,
      "metadata": {
        "colab": {
          "base_uri": "https://localhost:8080/"
        },
        "id": "qGniai2_Hkqu",
        "outputId": "95b4c5c9-e35c-4459-d283-5cef63e9b3bc"
      },
      "outputs": [
        {
          "name": "stdout",
          "output_type": "stream",
          "text": [
            "Epoch 1/15\n",
            "352/352 [==============================] - 82s 230ms/step - loss: 1.6781 - accuracy: 0.3908 - val_loss: 1.3817 - val_accuracy: 0.5120\n",
            "Epoch 2/15\n",
            "352/352 [==============================] - 82s 232ms/step - loss: 1.3460 - accuracy: 0.5211 - val_loss: 1.2137 - val_accuracy: 0.5822\n",
            "Epoch 3/15\n",
            "352/352 [==============================] - 85s 240ms/step - loss: 1.2056 - accuracy: 0.5751 - val_loss: 1.0732 - val_accuracy: 0.6302\n",
            "Epoch 4/15\n",
            "352/352 [==============================] - 81s 231ms/step - loss: 1.1026 - accuracy: 0.6162 - val_loss: 0.9922 - val_accuracy: 0.6572\n",
            "Epoch 5/15\n",
            "352/352 [==============================] - 81s 231ms/step - loss: 1.0360 - accuracy: 0.6398 - val_loss: 0.9467 - val_accuracy: 0.6734\n",
            "Epoch 6/15\n",
            "352/352 [==============================] - 81s 231ms/step - loss: 0.9885 - accuracy: 0.6586 - val_loss: 0.9008 - val_accuracy: 0.6938\n",
            "Epoch 7/15\n",
            "352/352 [==============================] - 81s 231ms/step - loss: 0.9509 - accuracy: 0.6710 - val_loss: 0.8740 - val_accuracy: 0.7016\n",
            "Epoch 8/15\n",
            "352/352 [==============================] - 81s 230ms/step - loss: 0.9213 - accuracy: 0.6835 - val_loss: 0.8649 - val_accuracy: 0.7068\n",
            "Epoch 9/15\n",
            "352/352 [==============================] - 81s 230ms/step - loss: 0.8940 - accuracy: 0.6900 - val_loss: 0.8198 - val_accuracy: 0.7252\n",
            "Epoch 10/15\n",
            "352/352 [==============================] - 82s 234ms/step - loss: 0.8772 - accuracy: 0.6971 - val_loss: 0.8233 - val_accuracy: 0.7222\n",
            "Epoch 11/15\n",
            "352/352 [==============================] - 81s 230ms/step - loss: 0.8575 - accuracy: 0.7006 - val_loss: 0.7932 - val_accuracy: 0.7302\n",
            "Epoch 12/15\n",
            "352/352 [==============================] - 81s 230ms/step - loss: 0.8412 - accuracy: 0.7074 - val_loss: 0.8079 - val_accuracy: 0.7300\n",
            "Epoch 13/15\n",
            "352/352 [==============================] - 81s 230ms/step - loss: 0.8271 - accuracy: 0.7136 - val_loss: 0.7733 - val_accuracy: 0.7424\n",
            "Epoch 14/15\n",
            "352/352 [==============================] - 81s 230ms/step - loss: 0.8125 - accuracy: 0.7161 - val_loss: 0.7745 - val_accuracy: 0.7372\n",
            "Epoch 15/15\n",
            "352/352 [==============================] - 80s 229ms/step - loss: 0.8030 - accuracy: 0.7209 - val_loss: 0.7583 - val_accuracy: 0.7400\n"
          ]
        }
      ],
      "source": [
        "batch_size = 128\n",
        "epochs = 15\n",
        "\n",
        "model.compile(loss=\"categorical_crossentropy\", optimizer=\"adam\", metrics=[\"accuracy\"])\n",
        "\n",
        "history = model.fit(x_train, y_train, batch_size=batch_size, epochs=epochs, validation_split=0.1)"
      ]
    },
    {
      "cell_type": "code",
      "execution_count": null,
      "metadata": {
        "colab": {
          "base_uri": "https://localhost:8080/"
        },
        "id": "02ddJ3OiHr-R",
        "outputId": "50df4342-8547-432e-821f-925f50592e36"
      },
      "outputs": [
        {
          "name": "stdout",
          "output_type": "stream",
          "text": [
            "313/313 [==============================] - 5s 17ms/step - loss: 0.7808 - accuracy: 0.7308\n",
            "Test loss: 0.7807847261428833\n",
            "Test accuracy: 0.7307999730110168\n"
          ]
        }
      ],
      "source": [
        "score = model.evaluate(x_test, y_test)\n",
        "print('Test loss:', score[0])\n",
        "print('Test accuracy:', score[1])"
      ]
    },
    {
      "cell_type": "code",
      "execution_count": null,
      "metadata": {
        "colab": {
          "base_uri": "https://localhost:8080/",
          "height": 284
        },
        "id": "8YZEcXpDNJL0",
        "outputId": "0cf4bb6e-aa54-4d76-ebf0-aee5f6701dae"
      },
      "outputs": [
        {
          "data": {
            "text/plain": [
              "<matplotlib.image.AxesImage at 0x7f108bfa9e50>"
            ]
          },
          "execution_count": 38,
          "metadata": {
            "tags": []
          },
          "output_type": "execute_result"
        },
        {
          "data": {
            "image/png": "[encoded data removed]",
            "text/plain": [
              "<Figure size 432x288 with 1 Axes>"
            ]
          },
          "metadata": {
            "tags": []
          },
          "output_type": "display_data"
        }
      ],
      "source": [
        "image_index = 4\n",
        "plt.imshow(x_test[image_index])"
      ]
    },
    {
      "cell_type": "code",
      "execution_count": null,
      "metadata": {
        "id": "KR3Sfu-mNSpf"
      },
      "outputs": [],
      "source": [
        "x=model.predict(x_test[image_index].reshape(1,32, 32,3))"
      ]
    },
    {
      "cell_type": "code",
      "execution_count": null,
      "metadata": {
        "colab": {
          "base_uri": "https://localhost:8080/"
        },
        "id": "VukXU9vINcif",
        "outputId": "58dfc61e-7f27-425e-b5e4-09e86157e94e"
      },
      "outputs": [
        {
          "name": "stdout",
          "output_type": "stream",
          "text": [
            "6\n"
          ]
        }
      ],
      "source": [
        "print(x.argmax())"
      ]
    },
    {
      "cell_type": "code",
      "execution_count": null,
      "metadata": {
        "id": "Wc0BE1hWNk73"
      },
      "outputs": [],
      "source": []
    }
  ],
  "metadata": {
    "colab": {
      "provenance": []
    },
    "kernelspec": {
      "display_name": "Python 3",
      "name": "python3"
    },
    "language_info": {
      "name": "python"
    }
  },
  "nbformat": 4,
  "nbformat_minor": 0
}